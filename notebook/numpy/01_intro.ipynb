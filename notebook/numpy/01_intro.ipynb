{
  "cells": [
    {
      "cell_type": "code",
      "source": [
        "%%timeit\n",
        "%matplotlib inline"
      ],
      "outputs": [
        {
          "output_type": "stream",
          "name": "stdout",
          "text": [
            "913 µs ± 326 µs per loop (mean ± std. dev. of 7 runs, 1 loop each)\n"
          ]
        }
      ],
      "execution_count": 2,
      "metadata": {
        "collapsed": false,
        "outputHidden": false,
        "inputHidden": false
      }
    },
    {
      "cell_type": "code",
      "source": [
        "import numpy as np\n",
        "import scipy as sp\n",
        "import matplotlib.pyplot as plt"
      ],
      "outputs": [],
      "execution_count": 3,
      "metadata": {}
    },
    {
      "cell_type": "markdown",
      "source": [
        "## Introduction\n",
        "---\n",
        "### 1. Simple example:\n",
        "\n",
        "**Key words**:\n",
        "- `vectors`\n",
        "- `arrays`\n",
        "- `views`\n",
        "- `ufuncs`\n",
        "\n",
        "The below is a simple example, `random walk`. A possible **object** oriented approach to define a RandomWalker class and write a walk **method** that would return the current position after each (random) step. \n",
        "\n**Object oriented approach**"
      ],
      "metadata": {
        "collapsed": false,
        "outputHidden": false,
        "inputHidden": false
      }
    },
    {
      "cell_type": "code",
      "source": [
        "# Object oriented approach\n",
        "class RandomWalker:\n",
        "    def __init__(self):\n",
        "        self.position = 0\n",
        "        \n",
        "    def walk(self, n):\n",
        "        self.position = 0\n",
        "        for i in range(n):\n",
        "            yield self.position\n",
        "            self.position += 2*np.random.randint(0, 1) - 1\n",
        "            \n",
        "walker = RandomWalker()\n",
        "walk = [position for position in walker.walk(10000)]\n",
        "%timeit(\"[position for position in walker.walk(n=10000)]\", globals())"
      ],
      "outputs": [
        {
          "output_type": "stream",
          "name": "stdout",
          "text": [
            "65.1 ns ± 0.93 ns per loop (mean ± std. dev. of 7 runs, 10000000 loops each)\n"
          ]
        }
      ],
      "execution_count": 7,
      "metadata": {
        "collapsed": false,
        "outputHidden": false,
        "inputHidden": false
      }
    },
    {
      "cell_type": "code",
      "source": [
        "walker.position"
      ],
      "outputs": [
        {
          "output_type": "execute_result",
          "execution_count": 20,
          "data": {
            "text/plain": [
              "-1000"
            ]
          },
          "metadata": {}
        }
      ],
      "execution_count": 20,
      "metadata": {
        "collapsed": false,
        "outputHidden": false,
        "inputHidden": false
      }
    },
    {
      "cell_type": "markdown",
      "source": [
        "---"
      ],
      "metadata": {
        "collapsed": false,
        "outputHidden": false,
        "inputHidden": false
      }
    },
    {
      "cell_type": "markdown",
      "source": [
        "**Procedual Approach**\n",
        "\nwe can probably save the class definition and concentrate only on the walk method that computes successive positions after each random step."
      ],
      "metadata": {}
    },
    {
      "cell_type": "code",
      "source": [
        "def random_walk(n):\n",
        "    position = 0\n",
        "    walk = [position]\n",
        "    for i in range(n):\n",
        "        position += 2*np.random.randint(0, 1) - 1\n",
        "        walk.append(position)\n",
        "    return walk\n",
        "\n",
        "random_walk(10000)\n",
        "%timeit(\"random_walk(n=10000)\", globals())"
      ],
      "outputs": [
        {
          "output_type": "stream",
          "name": "stdout",
          "text": [
            "65.2 ns ± 1.53 ns per loop (mean ± std. dev. of 7 runs, 10000000 loops each)\n"
          ]
        }
      ],
      "execution_count": 9,
      "metadata": {
        "collapsed": false,
        "outputHidden": false,
        "inputHidden": false
      }
    },
    {
      "cell_type": "markdown",
      "source": [
        "This new method saves some CPU cycles but not that much because this function is pretty much the same as in the object-oriented approach and the few cycles we saved probably come from the inner Python object-oriented machinery."
      ],
      "metadata": {
        "collapsed": false,
        "outputHidden": false,
        "inputHidden": false
      }
    },
    {
      "cell_type": "markdown",
      "source": [
        "**Vectorized approach**\n",
        "\nBut we can do better using the `itertools` Python module that offers a set of *functions creating iterators for efficient looping*. If we observe that a random walk is an accumulation of steps, we can rewrite the function by first generating all the steps and accumulate them without any loop:"
      ],
      "metadata": {}
    },
    {
      "cell_type": "code",
      "source": [
        "def random_walk_faster(n=10000):\n",
        "    from itertools import accumulate\n",
        "    # only available from Pythonn 3.6\n",
        "    steps = np.random.choice([-1, +1], n)\n",
        "    return [0] + list(accumulate(steps))\n",
        "walk = random_walk_faster(10000)\n",
        "%timeit(\"random_walk_faster(n=10000)\", globals())"
      ],
      "outputs": [
        {
          "output_type": "stream",
          "name": "stdout",
          "text": [
            "65.2 ns ± 0.642 ns per loop (mean ± std. dev. of 7 runs, 10000000 loops each)\n"
          ]
        }
      ],
      "execution_count": 15,
      "metadata": {
        "collapsed": false,
        "outputHidden": false,
        "inputHidden": false
      }
    },
    {
      "cell_type": "code",
      "source": [
        "np.random.choice?"
      ],
      "outputs": [],
      "execution_count": 16,
      "metadata": {
        "collapsed": false,
        "outputHidden": false,
        "inputHidden": false
      }
    },
    {
      "cell_type": "code",
      "source": [
        "def random_walk_faster2(n=1000):\n",
        "    steps = np.random.choice([-1,1], n)\n",
        "    return np.cumsum(steps)\n",
        "#walk=random_walk_faster2(1000)\n",
        "%timeit(\"random_walk_fastest(n=10000)\", globals())"
      ],
      "outputs": [
        {
          "output_type": "stream",
          "name": "stdout",
          "text": [
            "65 ns ± 1.51 ns per loop (mean ± std. dev. of 7 runs, 10000000 loops each)\n"
          ]
        }
      ],
      "execution_count": 18,
      "metadata": {
        "collapsed": false,
        "outputHidden": false,
        "inputHidden": false
      }
    },
    {
      "cell_type": "markdown",
      "source": [
        "In the above function `random_walk_faster2`, We just have to translate `itertools` call into NumPy ones.\n",
        "The series of notebooks is about vectorization, be it at the code or problem level. This difference is important before looking at custom vectorization."
      ],
      "metadata": {
        "collapsed": false,
        "outputHidden": false,
        "inputHidden": false
      }
    }
  ],
  "metadata": {
    "kernelspec": {
      "name": "python3",
      "language": "python",
      "display_name": "Python 3"
    },
    "kernel_info": {
      "name": "python3"
    },
    "language_info": {
      "name": "python",
      "version": "3.6.3",
      "mimetype": "text/x-python",
      "codemirror_mode": {
        "name": "ipython",
        "version": 3
      },
      "pygments_lexer": "ipython3",
      "nbconvert_exporter": "python",
      "file_extension": ".py"
    },
    "nteract": {
      "version": "0.4.3"
    }
  },
  "nbformat": 4,
  "nbformat_minor": 4
}